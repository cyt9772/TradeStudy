{
 "cells": [
  {
   "cell_type": "code",
   "execution_count": 1,
   "id": "75be1414",
   "metadata": {},
   "outputs": [],
   "source": [
    "import sys\n",
    "from PyQt5.QtWidgets import *"
   ]
  },
  {
   "cell_type": "code",
   "execution_count": 2,
   "id": "ed665307",
   "metadata": {},
   "outputs": [
    {
     "ename": "AttributeError",
     "evalue": "'MyWindow' object has no attribute 'lineEidt'",
     "output_type": "error",
     "traceback": [
      "\u001b[1;31m---------------------------------------------------------------------------\u001b[0m",
      "\u001b[1;31mAttributeError\u001b[0m                            Traceback (most recent call last)",
      "Cell \u001b[1;32mIn[2], line 31\u001b[0m\n\u001b[0;32m     29\u001b[0m \u001b[38;5;28;01mif\u001b[39;00m \u001b[38;5;18m__name__\u001b[39m\u001b[38;5;241m==\u001b[39m\u001b[38;5;124m\"\u001b[39m\u001b[38;5;124m__main__\u001b[39m\u001b[38;5;124m\"\u001b[39m:\n\u001b[0;32m     30\u001b[0m     app\u001b[38;5;241m=\u001b[39mQApplication(sys\u001b[38;5;241m.\u001b[39margv)\n\u001b[1;32m---> 31\u001b[0m     myWindow\u001b[38;5;241m=\u001b[39m\u001b[43mMyWindow\u001b[49m\u001b[43m(\u001b[49m\u001b[43m)\u001b[49m\n\u001b[0;32m     32\u001b[0m     myWindow\u001b[38;5;241m.\u001b[39mshow()\n\u001b[0;32m     33\u001b[0m     app\u001b[38;5;241m.\u001b[39mexec_()\n",
      "Cell \u001b[1;32mIn[2], line 6\u001b[0m, in \u001b[0;36mMyWindow.__init__\u001b[1;34m(self)\u001b[0m\n\u001b[0;32m      4\u001b[0m \u001b[38;5;28;01mdef\u001b[39;00m \u001b[38;5;21m__init__\u001b[39m(\u001b[38;5;28mself\u001b[39m):\n\u001b[0;32m      5\u001b[0m     \u001b[38;5;28msuper\u001b[39m()\u001b[38;5;241m.\u001b[39m\u001b[38;5;21m__init__\u001b[39m()\n\u001b[1;32m----> 6\u001b[0m     \u001b[38;5;28;43mself\u001b[39;49m\u001b[38;5;241;43m.\u001b[39;49m\u001b[43msetupUI\u001b[49m\u001b[43m(\u001b[49m\u001b[43m)\u001b[49m\n",
      "Cell \u001b[1;32mIn[2], line 19\u001b[0m, in \u001b[0;36mMyWindow.setupUI\u001b[1;34m(self)\u001b[0m\n\u001b[0;32m     17\u001b[0m \u001b[38;5;28mself\u001b[39m\u001b[38;5;241m.\u001b[39mlineEdit\u001b[38;5;241m=\u001b[39mQLineEdit(\u001b[38;5;124m\"\u001b[39m\u001b[38;5;124m\"\u001b[39m, \u001b[38;5;28mself\u001b[39m)\n\u001b[0;32m     18\u001b[0m \u001b[38;5;28mself\u001b[39m\u001b[38;5;241m.\u001b[39mlineEdit\u001b[38;5;241m.\u001b[39mmove(\u001b[38;5;241m80\u001b[39m,\u001b[38;5;241m20\u001b[39m)\n\u001b[1;32m---> 19\u001b[0m \u001b[38;5;28;43mself\u001b[39;49m\u001b[38;5;241;43m.\u001b[39;49m\u001b[43mlineEidt\u001b[49m\u001b[38;5;241m.\u001b[39mtextChanged\u001b[38;5;241m.\u001b[39mconnect(\u001b[38;5;28mself\u001b[39m\u001b[38;5;241m.\u001b[39mlineEditChanged)\n\u001b[0;32m     21\u001b[0m \u001b[38;5;66;03m#StatusBar\u001b[39;00m\n\u001b[0;32m     22\u001b[0m \u001b[38;5;28mself\u001b[39m\u001b[38;5;241m.\u001b[39mstatusBar\u001b[38;5;241m=\u001b[39mQStatusBar(\u001b[38;5;28mself\u001b[39m)\n",
      "\u001b[1;31mAttributeError\u001b[0m: 'MyWindow' object has no attribute 'lineEidt'"
     ]
    }
   ],
   "source": [
    "app=None\n",
    "\n",
    "class MyWindow(QMainWindow):\n",
    "    def __init__(self):\n",
    "        super().__init__()\n",
    "        self.setupUI()\n",
    "\n",
    "        \n",
    "    def setupUI(self):\n",
    "            self.setGeometry(800,400,300,150)\n",
    "            \n",
    "            #Label\n",
    "            label=QLabel(\"종목코드\",self)\n",
    "            label.move(20,20)\n",
    "            \n",
    "            #LineEdit\n",
    "            self.lineEdit=QLineEdit(\"\", self)\n",
    "            self.lineEdit.move(80,20)\n",
    "            self.lineEidt.textChanged.connect(self.lineEditChanged)\n",
    "            \n",
    "            #StatusBar\n",
    "            self.statusBar=QStatusBar(self)\n",
    "            self.setStatusBar(self.statusbar)\n",
    "            \n",
    "    def lineEditChanged(self):\n",
    "            self.statusBar.showMessage(self.lineEdit.text())\n",
    "            \n",
    "    \n",
    "if __name__==\"__main__\":\n",
    "    app=QApplication(sys.argv)\n",
    "    myWindow=MyWindow()\n",
    "    myWindow.show()\n",
    "    app.exec_()"
   ]
  },
  {
   "cell_type": "code",
   "execution_count": null,
   "id": "020c797a",
   "metadata": {},
   "outputs": [],
   "source": []
  }
 ],
 "metadata": {
  "kernelspec": {
   "display_name": "Python 3 (ipykernel)",
   "language": "python",
   "name": "python3"
  },
  "language_info": {
   "codemirror_mode": {
    "name": "ipython",
    "version": 3
   },
   "file_extension": ".py",
   "mimetype": "text/x-python",
   "name": "python",
   "nbconvert_exporter": "python",
   "pygments_lexer": "ipython3",
   "version": "3.10.8"
  }
 },
 "nbformat": 4,
 "nbformat_minor": 5
}
