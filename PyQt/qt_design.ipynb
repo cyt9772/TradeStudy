{
 "cells": [
  {
   "cell_type": "code",
   "execution_count": 1,
   "id": "75be1414",
   "metadata": {},
   "outputs": [],
   "source": [
    "import sys\n",
    "from PyQt5.QtWidgets import *\n",
    "from PyQt5 import uic"
   ]
  },
  {
   "cell_type": "code",
   "execution_count": 2,
   "id": "ed665307",
   "metadata": {},
   "outputs": [],
   "source": [
    "form_class=uic.loadUiType(\"main_window.ui\")[0]\n",
    "\n",
    "class MyWindow(QMainWindow, form_class):\n",
    "    def __init__(self):\n",
    "        super().__init__()\n",
    "        self.setupUi(self)\n",
    "        self.pushButton.clicked.connect(self.btn_clicked)\n",
    "    \n",
    "    def btn_clicked(self):\n",
    "        QMessageBox.about(self, \"message\",\"clicked\")\n",
    "        \n",
    "if __name__==\"__main__\":\n",
    "    app=QApplication(sys.argv)\n",
    "    myWindow=MyWindow()\n",
    "    myWindow.show()\n",
    "    app.exec_()"
   ]
  },
  {
   "cell_type": "code",
   "execution_count": null,
   "id": "020c797a",
   "metadata": {},
   "outputs": [],
   "source": []
  }
 ],
 "metadata": {
  "kernelspec": {
   "display_name": "Python 3 (ipykernel)",
   "language": "python",
   "name": "python3"
  },
  "language_info": {
   "codemirror_mode": {
    "name": "ipython",
    "version": 3
   },
   "file_extension": ".py",
   "mimetype": "text/x-python",
   "name": "python",
   "nbconvert_exporter": "python",
   "pygments_lexer": "ipython3",
   "version": "3.10.8"
  }
 },
 "nbformat": 4,
 "nbformat_minor": 5
}
