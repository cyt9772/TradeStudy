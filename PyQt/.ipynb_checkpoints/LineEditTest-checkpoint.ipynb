{
 "cells": [
  {
   "cell_type": "code",
   "execution_count": 1,
   "id": "75be1414",
   "metadata": {},
   "outputs": [],
   "source": [
    "import sys\n",
    "from PyQt5.QtWidgets import *"
   ]
  },
  {
   "cell_type": "code",
   "execution_count": 2,
   "id": "ed665307",
   "metadata": {},
   "outputs": [],
   "source": [
    "app=None\n",
    "\n",
    "class MyWindow(QMainWindow):\n",
    "    def __init__(self):\n",
    "        super().__init__()\n",
    "        self.setupUI()\n",
    "\n",
    "        \n",
    "    def setupUI(self):\n",
    "        self.setGeometry(800,400,300,150)\n",
    "        \n",
    "        textLabel=QLabel(\"Message: \", self)\n",
    "        textLabel.move(20,20)\n",
    "        \n",
    "        self.label=QLabel(\"\",self)\n",
    "        self.label.move(80,20)\n",
    "        self.label.resize(150,30)\n",
    "        \n",
    "        btn1=QPushButton(\"Click\", self)\n",
    "        btn1.move(20, 60)\n",
    "        btn1.clicked.connect(self.btn1_clicked)\n",
    "        \n",
    "        btn2=QPushButton(\"Clear\", self)\n",
    "        btn2.move(140, 60)\n",
    "        btn2.clicked.connect(self.btn2_clicked)\n",
    "        \n",
    "    def btn1_clicked(self):\n",
    "        self.label.setText(\"Button was clicked\")\n",
    "        \n",
    "    def btn2_clicked(self):\n",
    "        self.label.clear()\n",
    "        \n",
    "    \n",
    "if __name__==\"__main__\":\n",
    "    app=QApplication(sys.argv)\n",
    "    myWindow=MyWindow()\n",
    "    myWindow.show()\n",
    "    app.exec_()"
   ]
  },
  {
   "cell_type": "code",
   "execution_count": null,
   "id": "020c797a",
   "metadata": {},
   "outputs": [],
   "source": []
  }
 ],
 "metadata": {
  "kernelspec": {
   "display_name": "Python 3 (ipykernel)",
   "language": "python",
   "name": "python3"
  },
  "language_info": {
   "codemirror_mode": {
    "name": "ipython",
    "version": 3
   },
   "file_extension": ".py",
   "mimetype": "text/x-python",
   "name": "python",
   "nbconvert_exporter": "python",
   "pygments_lexer": "ipython3",
   "version": "3.10.8"
  }
 },
 "nbformat": 4,
 "nbformat_minor": 5
}
